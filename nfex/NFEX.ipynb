{
 "cells": [
  {
   "cell_type": "code",
   "execution_count": null,
   "id": "3bb6b0b8",
   "metadata": {},
   "outputs": [],
   "source": [
    "import numpy as np\n",
    "import pandas as pd\n",
    "import re"
   ]
  },
  {
   "cell_type": "markdown",
   "id": "8f00e43f",
   "metadata": {},
   "source": [
    "# Section 1 #"
   ]
  },
  {
   "cell_type": "code",
   "execution_count": null,
   "id": "b887cbcb",
   "metadata": {},
   "outputs": [],
   "source": [
    "#read the CSV file into a pandas dataframe\n",
    "\n",
    "transition_list = pd.read_csv(\"~/fork-Nitrogenous-Fate-Project/Nitrogenous-Fate-Project/data_raw/HILIC_QE_POSITIVE_G5_Particulate_NFEX_Isotopes1.csv\")\n",
    "transition_list.head(5)"
   ]
  },
  {
   "cell_type": "code",
   "execution_count": null,
   "id": "27030bc8",
   "metadata": {},
   "outputs": [],
   "source": [
    "clean_areas = transition_list[['Replicate Name', 'Precursor Ion Name', 'Area']] \\\n",
    "    .rename(columns={'Replicate Name': 'filename', 'Precursor Ion Name': 'compound_name', 'Area': 'area'})\n",
    "\n",
    "clean_areas.head(5)"
   ]
  },
  {
   "cell_type": "code",
   "execution_count": null,
   "id": "78ef069e",
   "metadata": {},
   "outputs": [],
   "source": [
    "clean_areas['cmpd_type'] = clean_areas['compound_name'].apply(lambda x: 'IS' if re.search('A', x) else 'Non-IS')\n",
    "clean_areas['area'] = pd.to_numeric(clean_areas['area'], errors='coerce')\n",
    "clean_areas['samp_type'] = clean_areas['filename'].apply(lambda x: re.search(r'Poo|Blk|Smp|Std', x).group() if re.search(r'Poo|Blk|Smp|Std', x) else None)\n",
    "clean_areas['day'] = clean_areas['filename'].apply(lambda x: int(re.search(r'T\\d+', x).group()[1:]) if re.search(r'T\\d+', x) else None)\n",
    "clean_areas['filename'] = clean_areas['filename'].astype('category')\n",
    "clean_areas = clean_areas.sort_values(by=['compound_name', 'filename'])"
   ]
  },
  {
   "cell_type": "code",
   "execution_count": null,
   "id": "eabc388d",
   "metadata": {},
   "outputs": [],
   "source": [
    "clean_areas.head(10)"
   ]
  },
  {
   "cell_type": "code",
   "execution_count": null,
   "id": "ab57ad6d",
   "metadata": {},
   "outputs": [],
   "source": [
    "IS_list = clean_areas[clean_areas['cmpd_type'] == \"IS\"]\n",
    "IS_list = IS_list.rename(columns={\"compound_name\": \"compound_name_IS\", \"area\": \"area_IS\"})\n",
    "IS_list = IS_list[['filename', 'compound_name_IS', 'area_IS']]\n",
    "IS_list.head(10)"
   ]
  },
  {
   "cell_type": "markdown",
   "id": "bdbec5e1",
   "metadata": {},
   "source": [
    "# Section 2 #"
   ]
  },
  {
   "cell_type": "code",
   "execution_count": null,
   "id": "a24f2c6f",
   "metadata": {},
   "outputs": [],
   "source": [
    "# Filter clean_areas for cmpd_type==\"Non-IS\"\n",
    "filtered_areas = clean_areas[clean_areas['cmpd_type'] == \"Non-IS\"]\n",
    "\n",
    "# Select relevant columns\n",
    "filtered_areas = filtered_areas[['filename', 'compound_name', 'area']]\n",
    "\n",
    "# Perform left join with filtered areas again\n",
    "merged_areas = pd.merge(filtered_areas, IS_list[['filename', 'compound_name_IS', 'area_IS']], on=['filename'], how='left')\n",
    "\n",
    "merged_areas['bmis_area'] = merged_areas['area'] / merged_areas['area_IS']\n",
    "\n",
    "mean_area_IS_14_to_44 = merged_areas['area_IS'].iloc[14:45].mean()\n",
    "\n",
    "# Multiply the new column with the mean of 'area_IS' (rows 14 through 44)\n",
    "merged_areas['result_column'] = merged_areas['bmis_area'] * mean_area_IS_14_to_44\n",
    "\n",
    "# Display the first 5 rows of the updated DataFrame\n",
    "merged_areas.head(50)  "
   ]
  },
  {
   "cell_type": "code",
   "execution_count": null,
   "id": "6c7c8633",
   "metadata": {},
   "outputs": [],
   "source": []
  }
 ],
 "metadata": {
  "kernelspec": {
   "display_name": "Python 3 (ipykernel)",
   "language": "python",
   "name": "python3"
  },
  "language_info": {
   "codemirror_mode": {
    "name": "ipython",
    "version": 3
   },
   "file_extension": ".py",
   "mimetype": "text/x-python",
   "name": "python",
   "nbconvert_exporter": "python",
   "pygments_lexer": "ipython3",
   "version": "3.8.8"
  }
 },
 "nbformat": 4,
 "nbformat_minor": 5
}
