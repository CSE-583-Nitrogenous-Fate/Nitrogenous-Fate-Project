###
This module processess the dissolved data set
###
